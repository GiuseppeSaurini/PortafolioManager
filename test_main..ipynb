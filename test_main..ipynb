{
 "cells": [
  {
   "cell_type": "code",
   "execution_count": 1,
   "source": [
    "import pandas as pd\r\n",
    "import requests\r\n",
    "import json\r\n",
    "from Mercados import Mercado\r\n",
    "from ImportData import importData\r\n",
    "from datetime import datetime,timedelta,date"
   ],
   "outputs": [],
   "metadata": {}
  },
  {
   "cell_type": "code",
   "execution_count": 2,
   "source": [
    "isin='PYCEC01F1635'\r\n",
    "flujos=importData(isin,'flujos').sort_values(by='fecha')\r\n",
    "bono=Mercado(flujos).getBond(isin)\r\n",
    "fecha_cotizacion=datetime(2021,9,5)\r\n",
    "rendimiento=0.1\r\n",
    "valoracion=bono.datosValor(rendimiento,fecha_cotizacion)\r\n",
    "\r\n"
   ],
   "outputs": [
    {
     "output_type": "stream",
     "name": "stdout",
     "text": [
      "Instumentos cargados\n",
      "La fecha  2021-09-05 00:00:00  es previo a la fecha de emision\n"
     ]
    }
   ],
   "metadata": {}
  },
  {
   "cell_type": "code",
   "execution_count": 4,
   "source": [
    "bono.info"
   ],
   "outputs": [
    {
     "output_type": "execute_result",
     "data": {
      "text/plain": [
       "isin                                                 PYCEC01F1635\n",
       "simbolo                                                       CEC\n",
       "Emisor               CEMENTOS CONCEPCIÓN SOCIEDAD ANÓNIMA EMISORA\n",
       "Tipo_Instrumento                                             Bono\n",
       "Moneda                                                        usd\n",
       "Fecha_Emision                                 2031-07-17 00:00:00\n",
       "Fecha_Vencimiento                             2031-07-17 00:00:00\n",
       "ValorNominal                                            1000.0000\n",
       "TasaCupon                                                  0.0525\n",
       "Name: 0, dtype: object"
      ]
     },
     "metadata": {},
     "execution_count": 4
    }
   ],
   "metadata": {}
  },
  {
   "cell_type": "code",
   "execution_count": null,
   "source": [],
   "outputs": [],
   "metadata": {}
  },
  {
   "cell_type": "code",
   "execution_count": null,
   "source": [],
   "outputs": [],
   "metadata": {}
  }
 ],
 "metadata": {
  "orig_nbformat": 4,
  "language_info": {
   "name": "python",
   "version": "3.7.6",
   "mimetype": "text/x-python",
   "codemirror_mode": {
    "name": "ipython",
    "version": 3
   },
   "pygments_lexer": "ipython3",
   "nbconvert_exporter": "python",
   "file_extension": ".py"
  },
  "kernelspec": {
   "name": "python3",
   "display_name": "Python 3.7.6 64-bit ('base': conda)"
  },
  "interpreter": {
   "hash": "313ebe4467882989a0f78af9b4b2b6de013b97a72d2c6beda4d96c944f9557a6"
  }
 },
 "nbformat": 4,
 "nbformat_minor": 2
}